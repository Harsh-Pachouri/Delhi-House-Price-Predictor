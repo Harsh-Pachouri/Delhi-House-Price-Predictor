{
 "cells": [
  {
   "cell_type": "code",
   "execution_count": 1,
   "id": "f3d51ed1",
   "metadata": {
    "_cell_guid": "b1076dfc-b9ad-4769-8c92-a6c4dae69d19",
    "_uuid": "8f2839f25d086af736a60e9eeb907d3b93b6e0e5",
    "execution": {
     "iopub.execute_input": "2024-07-21T17:48:41.183558Z",
     "iopub.status.busy": "2024-07-21T17:48:41.182746Z",
     "iopub.status.idle": "2024-07-21T17:48:44.968796Z",
     "shell.execute_reply": "2024-07-21T17:48:44.967626Z"
    },
    "papermill": {
     "duration": 3.794104,
     "end_time": "2024-07-21T17:48:44.971438",
     "exception": false,
     "start_time": "2024-07-21T17:48:41.177334",
     "status": "completed"
    },
    "tags": []
   },
   "outputs": [
    {
     "name": "stdout",
     "output_type": "stream",
     "text": [
      "/kaggle/input/delhi-house-price-prediction/MagicBricks.csv\n"
     ]
    }
   ],
   "source": [
    "import numpy as np # linear algebra\n",
    "import pandas as pd # data processing, CSV file I/O (e.g. pd.read_csv)\n",
    "\n",
    "\n",
    "from sklearn.model_selection import train_test_split\n",
    "from sklearn.preprocessing import StandardScaler\n",
    "from sklearn.metrics import accuracy_score\n",
    "\n",
    "from sklearn.linear_model import LinearRegression, Ridge, Lasso\n",
    "from sklearn.neighbors import KNeighborsRegressor\n",
    "from sklearn.neural_network import MLPRegressor\n",
    "from sklearn.svm import LinearSVR, SVR\n",
    "from sklearn.tree import DecisionTreeRegressor\n",
    "from sklearn.ensemble import RandomForestRegressor, GradientBoostingRegressor\n",
    "from xgboost import XGBRegressor\n",
    "from lightgbm import LGBMRegressor\n",
    "from catboost import CatBoostRegressor\n",
    "import warnings\n",
    "warnings.filterwarnings(action='ignore')\n",
    "# Input data files are available in the read-only \"../input/\" directory\n",
    "import os\n",
    "for dirname, _, filenames in os.walk('/kaggle/input'):\n",
    "    for filename in filenames:\n",
    "        print(os.path.join(dirname, filename))"
   ]
  },
  {
   "cell_type": "code",
   "execution_count": 2,
   "id": "2ef78f93",
   "metadata": {
    "execution": {
     "iopub.execute_input": "2024-07-21T17:48:44.982775Z",
     "iopub.status.busy": "2024-07-21T17:48:44.982014Z",
     "iopub.status.idle": "2024-07-21T17:48:45.004754Z",
     "shell.execute_reply": "2024-07-21T17:48:45.003572Z"
    },
    "papermill": {
     "duration": 0.030872,
     "end_time": "2024-07-21T17:48:45.007561",
     "exception": false,
     "start_time": "2024-07-21T17:48:44.976689",
     "status": "completed"
    },
    "tags": []
   },
   "outputs": [],
   "source": [
    "data = pd.read_csv('/kaggle/input/delhi-house-price-prediction/MagicBricks.csv')"
   ]
  },
  {
   "cell_type": "code",
   "execution_count": 3,
   "id": "c01cc3ec",
   "metadata": {
    "execution": {
     "iopub.execute_input": "2024-07-21T17:48:45.015720Z",
     "iopub.status.busy": "2024-07-21T17:48:45.015380Z",
     "iopub.status.idle": "2024-07-21T17:48:45.046220Z",
     "shell.execute_reply": "2024-07-21T17:48:45.044818Z"
    },
    "papermill": {
     "duration": 0.037789,
     "end_time": "2024-07-21T17:48:45.048820",
     "exception": false,
     "start_time": "2024-07-21T17:48:45.011031",
     "status": "completed"
    },
    "tags": []
   },
   "outputs": [
    {
     "name": "stdout",
     "output_type": "stream",
     "text": [
      "<class 'pandas.core.frame.DataFrame'>\n",
      "RangeIndex: 1259 entries, 0 to 1258\n",
      "Data columns (total 11 columns):\n",
      " #   Column       Non-Null Count  Dtype  \n",
      "---  ------       --------------  -----  \n",
      " 0   Area         1259 non-null   float64\n",
      " 1   BHK          1259 non-null   int64  \n",
      " 2   Bathroom     1257 non-null   float64\n",
      " 3   Furnishing   1254 non-null   object \n",
      " 4   Locality     1259 non-null   object \n",
      " 5   Parking      1226 non-null   float64\n",
      " 6   Price        1259 non-null   int64  \n",
      " 7   Status       1259 non-null   object \n",
      " 8   Transaction  1259 non-null   object \n",
      " 9   Type         1254 non-null   object \n",
      " 10  Per_Sqft     1018 non-null   float64\n",
      "dtypes: float64(4), int64(2), object(5)\n",
      "memory usage: 108.3+ KB\n"
     ]
    }
   ],
   "source": [
    "data.info()"
   ]
  },
  {
   "cell_type": "code",
   "execution_count": 4,
   "id": "a9a7355a",
   "metadata": {
    "execution": {
     "iopub.execute_input": "2024-07-21T17:48:45.057608Z",
     "iopub.status.busy": "2024-07-21T17:48:45.057227Z",
     "iopub.status.idle": "2024-07-21T17:48:45.064539Z",
     "shell.execute_reply": "2024-07-21T17:48:45.063287Z"
    },
    "papermill": {
     "duration": 0.014201,
     "end_time": "2024-07-21T17:48:45.066684",
     "exception": false,
     "start_time": "2024-07-21T17:48:45.052483",
     "status": "completed"
    },
    "tags": []
   },
   "outputs": [],
   "source": [
    "def onehot_encode(df,column,rename=False):\n",
    "    df=df.copy()\n",
    "    if rename==True:\n",
    "        df[column]=df[column].replace({x:i for i,x in enumerate(df[column].unique())})\n",
    "    dummies = pd.get_dummies(df[column], prefix=column)\n",
    "    for c in dummies.columns:\n",
    "        dummies[c]= dummies[c].replace({False:0,True:1})\n",
    "    df=pd.concat([df,dummies],axis=1)    \n",
    "    df=df.drop(column,axis=1)\n",
    "    \n",
    "    return df\n",
    "    "
   ]
  },
  {
   "cell_type": "code",
   "execution_count": 5,
   "id": "b5bc218a",
   "metadata": {
    "execution": {
     "iopub.execute_input": "2024-07-21T17:48:45.075149Z",
     "iopub.status.busy": "2024-07-21T17:48:45.074765Z",
     "iopub.status.idle": "2024-07-21T17:48:45.084761Z",
     "shell.execute_reply": "2024-07-21T17:48:45.083782Z"
    },
    "papermill": {
     "duration": 0.016745,
     "end_time": "2024-07-21T17:48:45.086938",
     "exception": false,
     "start_time": "2024-07-21T17:48:45.070193",
     "status": "completed"
    },
    "tags": []
   },
   "outputs": [],
   "source": [
    "def preprocess_inputs(df):\n",
    "    df=df.copy()\n",
    "    df=df.drop(\"Per_Sqft\",axis=1)\n",
    "    \n",
    "    #dealing with missing values\n",
    "    #i chose to round the mean of parking vallues since mode was 1 but mean was 1.67 so roundng\n",
    "    #the mean made more sense\n",
    "    df['Type'] = df['Type'].fillna(df['Type'].mode()[0])\n",
    "    df['Parking'] = df['Parking'].fillna(df['Parking'].mode()[0]);\n",
    "    df['Bathroom'] = df['Bathroom'].fillna(df['Bathroom'].mode()[0])\n",
    "    \n",
    "    #binary encoding the transaction/status/Type columns since they have only two values\n",
    "    df['Status']=df['Status'].replace({\n",
    "        'Almost_ready':0,\n",
    "        'Ready_to_move':1\n",
    "    })\n",
    "    df['Transaction']=df['Transaction'].replace({\n",
    "        'New_Property':0,\n",
    "        'Resale':1\n",
    "    })\n",
    "    df['Type']=df['Type'].replace({\n",
    "        'Apartment':1,\n",
    "        'Builder_Floor':0\n",
    "    })   \n",
    "    \n",
    "    #one_hot_encoding multi-categorical values\n",
    "    df=onehot_encode(df,column=\"Furnishing\")\n",
    "    df=onehot_encode(df,column=\"Locality\",rename=True)  \n",
    "    \n",
    "    #splitting df int X and y\n",
    "    y=df['Price']\n",
    "    X=df.drop('Price',axis=1)\n",
    "    \n",
    "    #train_test_split\n",
    "    X_train, X_test,y_train,y_test = train_test_split(X,y,train_size=0.7,shuffle=True,random_state=1)\n",
    "    \n",
    "    #scale X\n",
    "    scaler = StandardScaler()\n",
    "    scaler.fit(X_train)\n",
    "    X_train = pd.DataFrame(scaler.transform(X_train),index=X_train.index,columns= X_train.columns)\n",
    "    X_test = pd.DataFrame(scaler.transform(X_test),index=X_test.index,columns= X_test.columns)\n",
    "    return X_train, X_test,y_train,y_test\n",
    "\n"
   ]
  },
  {
   "cell_type": "code",
   "execution_count": 6,
   "id": "eaef799c",
   "metadata": {
    "execution": {
     "iopub.execute_input": "2024-07-21T17:48:45.095445Z",
     "iopub.status.busy": "2024-07-21T17:48:45.095043Z",
     "iopub.status.idle": "2024-07-21T17:48:45.813524Z",
     "shell.execute_reply": "2024-07-21T17:48:45.812198Z"
    },
    "papermill": {
     "duration": 0.725654,
     "end_time": "2024-07-21T17:48:45.816165",
     "exception": false,
     "start_time": "2024-07-21T17:48:45.090511",
     "status": "completed"
    },
    "tags": []
   },
   "outputs": [],
   "source": [
    "X_train, X_test,y_train,y_test = preprocess_inputs(data)"
   ]
  },
  {
   "cell_type": "markdown",
   "id": "00e5b624",
   "metadata": {
    "papermill": {
     "duration": 0.003615,
     "end_time": "2024-07-21T17:48:45.823710",
     "exception": false,
     "start_time": "2024-07-21T17:48:45.820095",
     "status": "completed"
    },
    "tags": []
   },
   "source": [
    "# **TRAINING**\n"
   ]
  },
  {
   "cell_type": "code",
   "execution_count": 7,
   "id": "fe2e8577",
   "metadata": {
    "execution": {
     "iopub.execute_input": "2024-07-21T17:48:45.832376Z",
     "iopub.status.busy": "2024-07-21T17:48:45.831982Z",
     "iopub.status.idle": "2024-07-21T17:48:53.954231Z",
     "shell.execute_reply": "2024-07-21T17:48:53.952820Z"
    },
    "papermill": {
     "duration": 8.129393,
     "end_time": "2024-07-21T17:48:53.956591",
     "exception": false,
     "start_time": "2024-07-21T17:48:45.827198",
     "status": "completed"
    },
    "tags": []
   },
   "outputs": [
    {
     "name": "stdout",
     "output_type": "stream",
     "text": [
      "                     Linear Regression trained.\n",
      " Linear Regression (L2 Regularization) trained.\n",
      " Linear Regression (L1 Regularization) trained.\n",
      "                   K-Nearest Neighbors trained.\n",
      "                        Neural Network trained.\n",
      "Support Vector Machine (Linear Kernel) trained.\n",
      "   Support Vector Machine (RBF Kernel) trained.\n",
      "                         Decision Tree trained.\n",
      "                         Random Forest trained.\n",
      "                     Gradient Boosting trained.\n",
      "                               XGBoost trained.\n",
      "[LightGBM] [Info] Auto-choosing row-wise multi-threading, the overhead of testing was 0.002645 seconds.\n",
      "You can set `force_row_wise=true` to remove the overhead.\n",
      "And if memory is not enough, you can set `force_col_wise=true`.\n",
      "[LightGBM] [Info] Total Bins 170\n",
      "[LightGBM] [Info] Number of data points in the train set: 881, number of used features: 13\n",
      "[LightGBM] [Info] Start training from score 20935561.861521\n",
      "[LightGBM] [Warning] No further splits with positive gain, best gain: -inf\n",
      "[LightGBM] [Warning] No further splits with positive gain, best gain: -inf\n",
      "[LightGBM] [Warning] No further splits with positive gain, best gain: -inf\n",
      "[LightGBM] [Warning] No further splits with positive gain, best gain: -inf\n",
      "                              LightGBM trained.\n",
      "                              CatBoost trained.\n"
     ]
    }
   ],
   "source": [
    "models = {\n",
    "    \"                     Linear Regression\": LinearRegression(),\n",
    "    \" Linear Regression (L2 Regularization)\": Ridge(),\n",
    "    \" Linear Regression (L1 Regularization)\": Lasso(),\n",
    "    \"                   K-Nearest Neighbors\": KNeighborsRegressor(),\n",
    "    \"                        Neural Network\": MLPRegressor(),\n",
    "    \"Support Vector Machine (Linear Kernel)\": LinearSVR(),\n",
    "    \"   Support Vector Machine (RBF Kernel)\": SVR(),\n",
    "    \"                         Decision Tree\": DecisionTreeRegressor(),\n",
    "    \"                         Random Forest\": RandomForestRegressor(),\n",
    "    \"                     Gradient Boosting\": GradientBoostingRegressor(),\n",
    "    \"                               XGBoost\": XGBRegressor(),\n",
    "    \"                              LightGBM\": LGBMRegressor(),\n",
    "    \"                              CatBoost\": CatBoostRegressor(verbose=0)\n",
    "}\n",
    "\n",
    "for name, model in models.items():\n",
    "    model.fit(X_train, y_train)\n",
    "    print(name + \" trained.\")"
   ]
  },
  {
   "cell_type": "code",
   "execution_count": 8,
   "id": "c98525bc",
   "metadata": {
    "execution": {
     "iopub.execute_input": "2024-07-21T17:48:53.966438Z",
     "iopub.status.busy": "2024-07-21T17:48:53.966061Z",
     "iopub.status.idle": "2024-07-21T17:48:54.370803Z",
     "shell.execute_reply": "2024-07-21T17:48:54.369687Z"
    },
    "papermill": {
     "duration": 0.412434,
     "end_time": "2024-07-21T17:48:54.373291",
     "exception": false,
     "start_time": "2024-07-21T17:48:53.960857",
     "status": "completed"
    },
    "tags": []
   },
   "outputs": [
    {
     "name": "stdout",
     "output_type": "stream",
     "text": [
      "                     Linear RegressionR^2 score -17785645789648935461060608.00000\n",
      " Linear Regression (L2 Regularization)R^2 score 0.67672\n",
      " Linear Regression (L1 Regularization)R^2 score 0.67647\n",
      "                   K-Nearest NeighborsR^2 score 0.59440\n",
      "                        Neural NetworkR^2 score -0.62240\n",
      "Support Vector Machine (Linear Kernel)R^2 score -0.62248\n",
      "   Support Vector Machine (RBF Kernel)R^2 score -0.07453\n",
      "                         Decision TreeR^2 score 0.70969\n",
      "                         Random ForestR^2 score 0.80716\n",
      "                     Gradient BoostingR^2 score 0.84460\n",
      "                               XGBoostR^2 score 0.87506\n",
      "                              LightGBMR^2 score 0.77550\n",
      "                              CatBoostR^2 score 0.85818\n"
     ]
    }
   ],
   "source": [
    "for name, model in models.items():\n",
    "    print(name + \"R^2 score {:.5f}\".format(model.score(X_test,y_test)))"
   ]
  },
  {
   "cell_type": "code",
   "execution_count": 9,
   "id": "1c1632c9",
   "metadata": {
    "execution": {
     "iopub.execute_input": "2024-07-21T17:48:54.383686Z",
     "iopub.status.busy": "2024-07-21T17:48:54.383320Z",
     "iopub.status.idle": "2024-07-21T17:48:55.162530Z",
     "shell.execute_reply": "2024-07-21T17:48:55.161408Z"
    },
    "papermill": {
     "duration": 0.787441,
     "end_time": "2024-07-21T17:48:55.165248",
     "exception": false,
     "start_time": "2024-07-21T17:48:54.377807",
     "status": "completed"
    },
    "tags": []
   },
   "outputs": [
    {
     "data": {
      "text/plain": [
       "0.8769676510321107"
      ]
     },
     "execution_count": 9,
     "metadata": {},
     "output_type": "execute_result"
    }
   ],
   "source": [
    "model = XGBRegressor(n_estimators=200)\n",
    "model.fit(X_train,y_train)\n",
    "model.score(X_test,y_test)"
   ]
  },
  {
   "cell_type": "code",
   "execution_count": null,
   "id": "b184afc7",
   "metadata": {
    "papermill": {
     "duration": 0.004253,
     "end_time": "2024-07-21T17:48:55.173990",
     "exception": false,
     "start_time": "2024-07-21T17:48:55.169737",
     "status": "completed"
    },
    "tags": []
   },
   "outputs": [],
   "source": []
  }
 ],
 "metadata": {
  "kaggle": {
   "accelerator": "none",
   "dataSources": [
    {
     "datasetId": 452607,
     "sourceId": 854899,
     "sourceType": "datasetVersion"
    }
   ],
   "dockerImageVersionId": 30746,
   "isGpuEnabled": false,
   "isInternetEnabled": false,
   "language": "python",
   "sourceType": "notebook"
  },
  "kernelspec": {
   "display_name": "Python 3",
   "language": "python",
   "name": "python3"
  },
  "language_info": {
   "codemirror_mode": {
    "name": "ipython",
    "version": 3
   },
   "file_extension": ".py",
   "mimetype": "text/x-python",
   "name": "python",
   "nbconvert_exporter": "python",
   "pygments_lexer": "ipython3",
   "version": "3.10.13"
  },
  "papermill": {
   "default_parameters": {},
   "duration": 17.728838,
   "end_time": "2024-07-21T17:48:55.899939",
   "environment_variables": {},
   "exception": null,
   "input_path": "__notebook__.ipynb",
   "output_path": "__notebook__.ipynb",
   "parameters": {},
   "start_time": "2024-07-21T17:48:38.171101",
   "version": "2.5.0"
  }
 },
 "nbformat": 4,
 "nbformat_minor": 5
}
